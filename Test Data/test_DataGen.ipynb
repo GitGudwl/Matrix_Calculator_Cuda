{
 "cells": [
  {
   "cell_type": "code",
   "execution_count": 1,
   "metadata": {},
   "outputs": [],
   "source": [
    "import numpy as np\n",
    "import pandas as pd\n",
    "\n",
    "def generate_random_matrix(n, filename):\n",
    "    \"\"\"\n",
    "    Generates an n x n matrix with random doubles and saves it to a CSV file.\n",
    "\n",
    "    Parameters:\n",
    "    n (int): The size of the matrix (n x n).\n",
    "    filename (str): The name of the file to save the matrix to.\n",
    "    \"\"\"\n",
    "    # Generate n x n matrix with random doubles\n",
    "    matrix = np.random.rand(n, n)\n",
    "    \n",
    "    # Convert to DataFrame for easier CSV writing\n",
    "    df = pd.DataFrame(matrix)\n",
    "    \n",
    "    # Save to CSV file\n",
    "    df.to_csv(filename, index=False, header=False)\n",
    "    print(f\"Random {n}x{n} matrix saved to {filename}\")\n",
    "\n",
    "generate_random_matrix(5000, \"random_matrix5000.csv\")"
   ]
  },
  {
   "cell_type": "code",
   "execution_count": null,
   "metadata": {},
   "outputs": [],
   "source": [
    "import numpy as np\n",
    "\n",
    "def generate_non_singular_matrix(size):\n",
    "    while True:\n",
    "        matrix = np.random.rand(size, size)\n",
    "        if np.linalg.matrix_rank(matrix) == size:\n",
    "            return matrix\n",
    "\n",
    "size = 2  # Size of the matrix\n",
    "matrix = generate_non_singular_matrix(size)\n",
    "print(\"Non-singular matrix:\")\n",
    "#save the matrix in csv file\n",
    "np.savetxt(\"matrix.csv\", matrix, delimiter=\",\")\n"
   ]
  }
 ],
 "metadata": {
  "kernelspec": {
   "display_name": "ImageCaptioning",
   "language": "python",
   "name": "python3"
  },
  "language_info": {
   "codemirror_mode": {
    "name": "ipython",
    "version": 3
   },
   "file_extension": ".py",
   "mimetype": "text/x-python",
   "name": "python",
   "nbconvert_exporter": "python",
   "pygments_lexer": "ipython3",
   "version": "3.9.17"
  }
 },
 "nbformat": 4,
 "nbformat_minor": 2
}
